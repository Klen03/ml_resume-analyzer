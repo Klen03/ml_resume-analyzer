{
 "cells": [
  {
   "cell_type": "markdown",
   "id": "dab8deb4",
   "metadata": {},
   "source": [
    "Written BY Zetian\n"
   ]
  },
  {
   "cell_type": "markdown",
   "id": "4eaaf0b6",
   "metadata": {},
   "source": [
    "how we could deal with Job description and resume to give specific advise to a resume given by a user: Use BERT to encode the user’s resume alongside industry job descriptions and other resumes in the industry and measure their cosine similarity to identify alignment gaps.\n",
    "Then extract the top TF–IDF keywords from the job descriptions that are missing in the user’s resume and suggest adding them as relevant skills or terms. "
   ]
  },
  {
   "cell_type": "code",
   "execution_count": 2,
   "id": "3d78da50",
   "metadata": {},
   "outputs": [],
   "source": [
    "import pandas as pd"
   ]
  },
  {
   "cell_type": "code",
   "execution_count": null,
   "id": "5b93983c",
   "metadata": {},
   "outputs": [],
   "source": [
    "def get_user_category(system_jd_category_list, system_resume_category_list):\n",
    "\n",
    "\n",
    "def get_user_resume():\n",
    "\n",
    "    "
   ]
  },
  {
   "cell_type": "code",
   "execution_count": null,
   "id": "5e337ed7",
   "metadata": {},
   "outputs": [],
   "source": [
    "def analyze_keywords_similarity(jd_category, \n",
    "                                resume_category, \n",
    "                                user_resume, \n",
    "                                system_jd_keywords, \n",
    "                                system_resume_keywords):\n"
   ]
  },
  {
   "cell_type": "code",
   "execution_count": null,
   "id": "6a4c2bbf",
   "metadata": {},
   "outputs": [],
   "source": [
    "def analyze_embedding_similarity(jd_category, \n",
    "                                resume_category, \n",
    "                                user_resume, \n",
    "                                system_jd, \n",
    "                                system_resume):\n",
    "    "
   ]
  },
  {
   "cell_type": "code",
   "execution_count": null,
   "id": "c2946d15",
   "metadata": {},
   "outputs": [],
   "source": [
    "def main():\n",
    "\n",
    "    system_jd = pd.read_csv('')\n",
    "    system_resume = pd.read_csv('')\n",
    "    system_jd_keywords = pd.read_csv('')\n",
    "    system_resume_keywords = pd.read_csv('') \n",
    "\n",
    "    system_jd_category_list = system_jd['job'] #get a list of all existing jd_category\n",
    "    system_resume_category_list = system_resume['Category'] #get a list of all existing resume_category\n",
    "\n",
    "\n",
    "    jd_category, resume_category = get_user_category(system_jd_category_list, system_resume_category_list)\n",
    "    # get the right category for user's resume to be analyze\n",
    "\n",
    "    user_resume = get_user_resume()\n",
    "\n",
    "\n",
    "    analyze_keywords_similarity(jd_category, resume_category, user_resume, system_jd_keywords, system_resume_keywords)\n",
    "    #get the report of the similarity between user's resume and job desciprtion and other resumes in our database\n",
    "    #in terms of keywords\n",
    "    analyze_embedding_similarity(jd_category, resume_category, user_resume, system_jd, system_resume)\n",
    "    #get the report of the similarity between user's resume and job desciprtion and other resumes in our database\n",
    "    #in terms of embedding using BERT"
   ]
  }
 ],
 "metadata": {
  "kernelspec": {
   "display_name": "Python 3",
   "language": "python",
   "name": "python3"
  },
  "language_info": {
   "codemirror_mode": {
    "name": "ipython",
    "version": 3
   },
   "file_extension": ".py",
   "mimetype": "text/x-python",
   "name": "python",
   "nbconvert_exporter": "python",
   "pygments_lexer": "ipython3",
   "version": "3.13.0"
  }
 },
 "nbformat": 4,
 "nbformat_minor": 5
}
