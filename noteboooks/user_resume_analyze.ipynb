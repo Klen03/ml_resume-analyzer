{
 "cells": [
  {
   "cell_type": "markdown",
   "id": "dab8deb4",
   "metadata": {},
   "source": [
    "Written BY Zetian\n"
   ]
  },
  {
   "cell_type": "markdown",
   "id": "4eaaf0b6",
   "metadata": {},
   "source": [
    "how we could deal with Job description and resume to give specific advise to a resume given by a user: Use BERT to encode the user’s resume alongside industry job descriptions and other resumes in the industry and measure their cosine similarity to identify alignment gaps.\n",
    "Then extract the top TF–IDF keywords from the job descriptions that are missing in the user’s resume and suggest adding them as relevant skills or terms. "
   ]
  },
  {
   "cell_type": "code",
   "execution_count": 1,
   "id": "3d78da50",
   "metadata": {},
   "outputs": [],
   "source": [
    "import pandas as pd\n",
    "import re\n",
    "import numpy as np\n",
    "from sentence_transformers import SentenceTransformer\n",
    "from sklearn.metrics.pairwise import cosine_similarity"
   ]
  },
  {
   "cell_type": "code",
   "execution_count": 58,
   "id": "57a05141",
   "metadata": {},
   "outputs": [],
   "source": [
    "user_resume_address = '/Users/sky/Library/CloudStorage/GoogleDrive-skyjin0127@gmail.com/其他计算机/我的笔记本电脑/jzt/BU课程/Spring_2025/CS506/project/cs506-project/' \\\n",
    "    'datasets/user_resume/zetian_resume.txt'"
   ]
  },
  {
   "cell_type": "code",
   "execution_count": 14,
   "id": "0f97ab5e",
   "metadata": {},
   "outputs": [
    {
     "data": {
      "application/vnd.jupyter.widget-view+json": {
       "model_id": "34bc11847eca4cac9b6deca2a629dafb",
       "version_major": 2,
       "version_minor": 0
      },
      "text/plain": [
       "modules.json:   0%|          | 0.00/349 [00:00<?, ?B/s]"
      ]
     },
     "metadata": {},
     "output_type": "display_data"
    },
    {
     "data": {
      "application/vnd.jupyter.widget-view+json": {
       "model_id": "8e936fc333164a1893321dae139dfb34",
       "version_major": 2,
       "version_minor": 0
      },
      "text/plain": [
       "config_sentence_transformers.json:   0%|          | 0.00/116 [00:00<?, ?B/s]"
      ]
     },
     "metadata": {},
     "output_type": "display_data"
    },
    {
     "data": {
      "application/vnd.jupyter.widget-view+json": {
       "model_id": "e3bf05b05deb4827b8d37df0ee1ace08",
       "version_major": 2,
       "version_minor": 0
      },
      "text/plain": [
       "README.md:   0%|          | 0.00/10.4k [00:00<?, ?B/s]"
      ]
     },
     "metadata": {},
     "output_type": "display_data"
    },
    {
     "data": {
      "application/vnd.jupyter.widget-view+json": {
       "model_id": "25d50e97b3f145f39e99a9ccc380aadd",
       "version_major": 2,
       "version_minor": 0
      },
      "text/plain": [
       "sentence_bert_config.json:   0%|          | 0.00/53.0 [00:00<?, ?B/s]"
      ]
     },
     "metadata": {},
     "output_type": "display_data"
    },
    {
     "data": {
      "application/vnd.jupyter.widget-view+json": {
       "model_id": "74843ab646954a46a4960a3adc602056",
       "version_major": 2,
       "version_minor": 0
      },
      "text/plain": [
       "config.json:   0%|          | 0.00/571 [00:00<?, ?B/s]"
      ]
     },
     "metadata": {},
     "output_type": "display_data"
    },
    {
     "data": {
      "application/vnd.jupyter.widget-view+json": {
       "model_id": "5a708893056a4d2095a6836b278d1ebc",
       "version_major": 2,
       "version_minor": 0
      },
      "text/plain": [
       "model.safetensors:   0%|          | 0.00/438M [00:00<?, ?B/s]"
      ]
     },
     "metadata": {},
     "output_type": "display_data"
    },
    {
     "data": {
      "application/vnd.jupyter.widget-view+json": {
       "model_id": "69a3caccb5bd47a790d7e4685a6886f6",
       "version_major": 2,
       "version_minor": 0
      },
      "text/plain": [
       "tokenizer_config.json:   0%|          | 0.00/363 [00:00<?, ?B/s]"
      ]
     },
     "metadata": {},
     "output_type": "display_data"
    },
    {
     "data": {
      "application/vnd.jupyter.widget-view+json": {
       "model_id": "06a6c0ad38a44494a1b2ec8ba4f181d4",
       "version_major": 2,
       "version_minor": 0
      },
      "text/plain": [
       "vocab.txt:   0%|          | 0.00/232k [00:00<?, ?B/s]"
      ]
     },
     "metadata": {},
     "output_type": "display_data"
    },
    {
     "data": {
      "application/vnd.jupyter.widget-view+json": {
       "model_id": "ef1e1dc92585407e87c371ac3bb43de1",
       "version_major": 2,
       "version_minor": 0
      },
      "text/plain": [
       "tokenizer.json:   0%|          | 0.00/466k [00:00<?, ?B/s]"
      ]
     },
     "metadata": {},
     "output_type": "display_data"
    },
    {
     "data": {
      "application/vnd.jupyter.widget-view+json": {
       "model_id": "b4004a133bd64f2199e9d48efa71b78e",
       "version_major": 2,
       "version_minor": 0
      },
      "text/plain": [
       "special_tokens_map.json:   0%|          | 0.00/239 [00:00<?, ?B/s]"
      ]
     },
     "metadata": {},
     "output_type": "display_data"
    },
    {
     "data": {
      "application/vnd.jupyter.widget-view+json": {
       "model_id": "835f17ff4593401d93cc1bdd3b082fb2",
       "version_major": 2,
       "version_minor": 0
      },
      "text/plain": [
       "config.json:   0%|          | 0.00/190 [00:00<?, ?B/s]"
      ]
     },
     "metadata": {},
     "output_type": "display_data"
    }
   ],
   "source": [
    "bert = SentenceTransformer('all-mpnet-base-v2')"
   ]
  },
  {
   "cell_type": "code",
   "execution_count": null,
   "id": "2309191d",
   "metadata": {},
   "outputs": [],
   "source": [
    "# work\n",
    "def get_cos_similarity(user_text: str, texts: list[str]) -> np.ndarray:\n",
    "    \"\"\"\n",
    "    Compute cosine similarity between a single user_text and a list of texts.\n",
    "    Returns an array of similarity scores of length len(texts).\n",
    "    \"\"\"\n",
    "    # Encode the user text and all candidate texts\n",
    "    user_emb = bert.encode(user_text, convert_to_numpy=True)\n",
    "    texts_emb = bert.encode(texts, convert_to_numpy=True)\n",
    "    \n",
    "    # Compute cosine similarity: (A·B) / (||A|| * ||B||)\n",
    "    dot_products = texts_emb @ user_emb\n",
    "    text_norms = np.linalg.norm(texts_emb, axis=1)\n",
    "    user_norm = np.linalg.norm(user_emb)\n",
    "    sims = dot_products / (text_norms * user_norm + 1e-8)\n",
    "    return sims\n",
    "\n",
    "#work\n",
    "def get_most_similar(user_input_category: str, system_category_list: list[str]) -> tuple[str, float]:\n",
    "    \"\"\"\n",
    "    Find which category in system_category_list is most similar to user_input_category.\n",
    "    Returns the best-matching category and its similarity score.\n",
    "    \"\"\"\n",
    "    sims = get_cos_similarity(user_input_category, system_category_list)\n",
    "    best_idx = int(np.argmax(sims))\n",
    "    return system_category_list[best_idx], float(sims[best_idx])\n"
   ]
  },
  {
   "cell_type": "code",
   "execution_count": 57,
   "id": "5b93983c",
   "metadata": {},
   "outputs": [],
   "source": [
    "# work\n",
    "def get_user_category(jd_categories, resume_categories): \n",
    "    user_input = input(\"Enter job category: \")\n",
    "    jd_match = get_most_similar(user_input, jd_categories)[0]\n",
    "    res_match = get_most_similar(user_input, resume_categories)[0]\n",
    "    print(f\"Matched JD: {jd_match}\")\n",
    "    print(f\"Matched Resume: {res_match}\")\n",
    "    return jd_match, res_match\n",
    "\n",
    "#work\n",
    "def get_user_resume() -> str:\n",
    "    file_path = user_resume_address\n",
    "    with open(file_path, 'r', encoding='utf-8') as f:\n",
    "        content = f.read()\n",
    "    return content\n"
   ]
  },
  {
   "cell_type": "code",
   "execution_count": null,
   "id": "5e337ed7",
   "metadata": {},
   "outputs": [],
   "source": [
    "def analyze_keywords_similarity(jd_category, \n",
    "                                resume_category, \n",
    "                                user_resume, \n",
    "                                system_jd_keywords, \n",
    "                                system_resume_keywords):\n",
    "    \n"
   ]
  },
  {
   "cell_type": "code",
   "execution_count": 54,
   "id": "6a4c2bbf",
   "metadata": {},
   "outputs": [],
   "source": [
    "#work\n",
    "def analyze_embedding_similarity(jd_category, \n",
    "                                resume_category, \n",
    "                                user_resume, \n",
    "                                system_jd, \n",
    "                                system_resume):\n",
    "\n",
    "    jd_texts = system_jd.loc[system_jd['position'] == jd_category, 'description'].astype(str).tolist()\n",
    "    if not jd_texts:\n",
    "        print(f\"No job descriptions found for category '{jd_category}'.\")\n",
    "        return\n",
    "    long_jd_text = \" \".join(jd_texts)\n",
    "\n",
    "\n",
    "\n",
    "    # 2. 编码\n",
    "    jd_emb = bert.encode(long_jd_text, convert_to_numpy=True)\n",
    "    user_resume_emb = bert.encode(user_resume, convert_to_numpy=True)\n",
    "\n",
    "    # 3. 计算余弦相似度\n",
    "    cos_sim = np.dot(jd_emb, user_resume_emb) / (\n",
    "        np.linalg.norm(jd_emb) * np.linalg.norm(user_resume_emb) + 1e-8\n",
    "    )\n",
    "\n",
    "    print(f\"Cosine similarity between JD category '{jd_category}' \"\n",
    "          f\"and user resume: {cos_sim:.4f}\")\n",
    "    \n",
    "    resume_text = system_resume.loc[system_resume['Category'] == resume_category, 'Resume'].astype(str).tolist()\n",
    "    if not resume_text:\n",
    "        print(f\"No job descriptions found for category '{resume_category}'.\")\n",
    "        return\n",
    "    long_resume_text = \" \".join(resume_text)\n",
    "\n",
    "\n",
    "    # 2. 编码\n",
    "    resume_emb = bert.encode(long_resume_text, convert_to_numpy=True)\n",
    "\n",
    "    # 3. 计算余弦相似度\n",
    "    cos_sim = np.dot(resume_emb, user_resume_emb) / (\n",
    "        np.linalg.norm(resume_emb) * np.linalg.norm(user_resume_emb) + 1e-8\n",
    "    )\n",
    "\n",
    "    print(f\"Cosine similarity between resume category '{resume_category}' \"\n",
    "          f\"and user resume: {cos_sim:.4f}\")\n"
   ]
  },
  {
   "cell_type": "code",
   "execution_count": 48,
   "id": "c2946d15",
   "metadata": {},
   "outputs": [],
   "source": [
    "def main():\n",
    "\n",
    "    system_jd = pd.read_csv('/Users/sky/Library/CloudStorage/GoogleDrive-skyjin0127@gmail.com/其他计算机/我的笔记本电脑/jzt/BU课程/Spring_2025/CS506/project/cs506-project/'\n",
    "+ 'datasets/processed_data/cleaned_job_data.csv')\n",
    "    system_resume = pd.read_csv('/Users/sky/Library/CloudStorage/GoogleDrive-skyjin0127@gmail.com/其他计算机/我的笔记本电脑/jzt/BU课程/Spring_2025/CS506/project/cs506-project/'\n",
    "    + 'datasets/processed_data/plain_resume.csv')\n",
    "    # system_jd_keywords = pd.read_csv('')\n",
    "    # system_resume_keywords = pd.read_csv('') \n",
    "\n",
    "    jd_categories = system_jd['position'].unique().tolist()\n",
    "    resume_categories = system_resume['Category'].unique().tolist()\n",
    "\n",
    "\n",
    "    jd_category, resume_category = get_user_category(jd_categories, resume_categories)\n",
    "    # get the right category for user's resume to be analyze\n",
    "\n",
    "    user_resume = get_user_resume()\n",
    "\n",
    "\n",
    "    # analyze_keywords_similarity(jd_category, resume_category, user_resume, system_jd_keywords, system_resume_keywords)\n",
    "    # #get the report of the similarity between user's resume and job desciprtion and other resumes in our database\n",
    "    # #in terms of keywords\n",
    "    analyze_embedding_similarity(jd_category, resume_category, user_resume, system_jd, system_resume)\n",
    "    #get the report of the similarity between user's resume and job desciprtion and other resumes in our database\n",
    "    #in terms of embedding using BERT"
   ]
  },
  {
   "cell_type": "code",
   "execution_count": 59,
   "id": "a509c288",
   "metadata": {},
   "outputs": [
    {
     "name": "stdout",
     "output_type": "stream",
     "text": [
      "Matched JD: software application developer\n",
      "Matched Resume: Java Developer\n",
      "Cosine similarity between JD category 'software application developer' and user resume: 0.4486\n",
      "Cosine similarity between resume category 'Java Developer' and user resume: 0.4938\n"
     ]
    }
   ],
   "source": [
    "main()"
   ]
  }
 ],
 "metadata": {
  "kernelspec": {
   "display_name": "Python 3",
   "language": "python",
   "name": "python3"
  },
  "language_info": {
   "codemirror_mode": {
    "name": "ipython",
    "version": 3
   },
   "file_extension": ".py",
   "mimetype": "text/x-python",
   "name": "python",
   "nbconvert_exporter": "python",
   "pygments_lexer": "ipython3",
   "version": "3.13.0"
  }
 },
 "nbformat": 4,
 "nbformat_minor": 5
}
