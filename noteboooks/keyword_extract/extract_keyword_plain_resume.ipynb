{
 "cells": [
  {
   "cell_type": "markdown",
   "metadata": {},
   "source": [
    "# Written by Zetian\n"
   ]
  },
  {
   "cell_type": "code",
   "execution_count": 22,
   "metadata": {},
   "outputs": [],
   "source": [
    "import pandas as pd\n",
    "from sklearn.feature_extraction.text import CountVectorizer\n",
    "\n",
    "\n"
   ]
  },
  {
   "cell_type": "markdown",
   "metadata": {},
   "source": [
    "#Word Frequency"
   ]
  },
  {
   "cell_type": "code",
   "execution_count": null,
   "metadata": {},
   "outputs": [],
   "source": [
    "plain_resume_file_path = \"datasets/processed_data/plain_resume.csv\"\n",
    "df = pd.read_csv(plain_resume_file_path)\n",
    "\n",
    "grouped_df = df.groupby(\"Category\")[\"Resume\"].apply(lambda texts: \" \".join(texts)).reset_index()\n",
    "\n",
    "meaningless_word = {'company', 'years', 'year', 'experience', 'digit', 'digits', 'description', 'descriptions', 'months', 'month', 'maharashtra', \"January\", \"February\", \"March\", \"April\", \"May\", \"June\", \"July\", \"August\", \"September\", \"October\", \"November\", \"December\", \"january\", \"february\", \"march\", \"april\", \"may\", \"june\", \n",
    "            \"july\", \"august\", \"september\", \"october\", \"november\", \"december\"}\n",
    "\n",
    "def get_top_keywords(text, top_n=20):\n",
    "\n",
    "    default_stop_words = set(CountVectorizer(stop_words='english').get_stop_words())\n",
    "    custom_stop_words = list(default_stop_words.union(meaningless_word))\n",
    "    \n",
    "\n",
    "    vectorizer = CountVectorizer(\n",
    "        stop_words=custom_stop_words, \n",
    "        ngram_range=(1, 1),\n",
    "        token_pattern=r'(?u)\\b[a-zA-Z]{3,}\\b'\n",
    "    )\n",
    "    X = vectorizer.fit_transform([text])\n",
    "    word_counts = X.toarray()[0]\n",
    "    words = vectorizer.get_feature_names_out()\n",
    "    word_freq = list(zip(words, word_counts))\n",
    "    word_freq = sorted(word_freq, key=lambda x: x[1], reverse=True)\n",
    "    return word_freq[:top_n]\n",
    "\n",
    "\n",
    "grouped_df[\"top_keywords\"] = grouped_df[\"Resume\"].apply(lambda x: get_top_keywords(x, top_n=100))\n",
    "\n",
    "\n",
    "grouped_df[[\"Category\", \"top_keywords\"]].to_csv(\"plain_resume_keyword_freq.csv\", index=False)"
   ]
  }
 ],
 "metadata": {
  "kernelspec": {
   "display_name": "Python 3",
   "language": "python",
   "name": "python3"
  },
  "language_info": {
   "codemirror_mode": {
    "name": "ipython",
    "version": 3
   },
   "file_extension": ".py",
   "mimetype": "text/x-python",
   "name": "python",
   "nbconvert_exporter": "python",
   "pygments_lexer": "ipython3",
   "version": "3.13.0"
  }
 },
 "nbformat": 4,
 "nbformat_minor": 2
}
