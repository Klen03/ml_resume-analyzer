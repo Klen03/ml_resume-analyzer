{
 "cells": [
  {
   "cell_type": "markdown",
   "id": "93c36909",
   "metadata": {},
   "source": [
    "Writen BY zetian\n"
   ]
  },
  {
   "cell_type": "markdown",
   "id": "f510edaf",
   "metadata": {},
   "source": [
    "In this file, I will extract the top keywords in each job, and store it as cleaned_jobdata_keyword_freq.csv"
   ]
  },
  {
   "cell_type": "code",
   "execution_count": 1,
   "id": "858652c6",
   "metadata": {},
   "outputs": [],
   "source": [
    "import pandas as pd\n",
    "from sklearn.feature_extraction.text import CountVectorizer\n",
    "\n",
    "\n"
   ]
  },
  {
   "cell_type": "code",
   "execution_count": null,
   "id": "34b9d02a",
   "metadata": {},
   "outputs": [],
   "source": [
    "job_data_file_path = \"datasets/processed_data/cleaned_job_data.csv\"\n",
    "df = pd.read_csv(job_data_file_path)\n",
    "\n",
    "df = df.dropna()"
   ]
  },
  {
   "cell_type": "code",
   "execution_count": 6,
   "id": "ca9b20d4",
   "metadata": {},
   "outputs": [],
   "source": [
    "\n",
    "\n",
    "grouped_df = df.groupby(\"job\")[\"description\"].apply(lambda texts: \" \".join(texts)).reset_index()\n",
    "\n",
    "meaningless_word = {'company', 'years', 'year', 'experience', 'digit', 'digits', 'description', 'descriptions', 'months', 'month', 'maharashtra', \"January\", \"February\", \"March\", \"April\", \"May\", \"June\", \"July\", \"August\", \"September\", \"October\", \"November\", \"December\", \"january\", \"february\", \"march\", \"april\", \"may\", \"june\", \n",
    "            \"july\", \"august\", \"september\", \"october\", \"november\", \"december\"}\n",
    "\n",
    "too_general_word_for_jd = {\"knowledge\",\n",
    "    \"work\",\n",
    "    \"working\",\n",
    "    \"like\",\n",
    "    \"good\",\n",
    "    \"new\",\n",
    "    \"required\",\n",
    "    \"code\",\n",
    "    \"training\",\n",
    "    \"flexible\",\n",
    "    \"existing\",\n",
    "}\n",
    "\n",
    "def get_top_keywords(text, top_n=50):\n",
    "\n",
    "    default_stop_words = set(CountVectorizer(stop_words='english').get_stop_words())\n",
    "    custom_stop_words = list(default_stop_words.union(meaningless_word).union(too_general_word_for_jd))\n",
    "    \n",
    "\n",
    "    vectorizer = CountVectorizer(\n",
    "        stop_words=custom_stop_words, \n",
    "        # ngram_range=(1, 1),\n",
    "        # token_pattern=r'(?u)\\b[a-zA-Z]{3,}\\b'\n",
    "    )\n",
    "    X = vectorizer.fit_transform([text])\n",
    "    word_counts = X.toarray()[0]\n",
    "    words = vectorizer.get_feature_names_out()\n",
    "    word_freq = list(zip(words, word_counts))\n",
    "    word_freq = sorted(word_freq, key=lambda x: x[1], reverse=True)\n",
    "    return word_freq[:top_n]\n",
    "\n",
    "\n",
    "grouped_df[\"top_keywords\"] = grouped_df[\"description\"].apply(lambda x: get_top_keywords(x, top_n=50))\n",
    "\n"
   ]
  },
  {
   "cell_type": "code",
   "execution_count": 8,
   "id": "5415aa71",
   "metadata": {},
   "outputs": [],
   "source": [
    "grouped_df.to_csv('cleaned_jobdata_keyword_freq.csv')"
   ]
  }
 ],
 "metadata": {
  "kernelspec": {
   "display_name": "Python 3",
   "language": "python",
   "name": "python3"
  },
  "language_info": {
   "codemirror_mode": {
    "name": "ipython",
    "version": 3
   },
   "file_extension": ".py",
   "mimetype": "text/x-python",
   "name": "python",
   "nbconvert_exporter": "python",
   "pygments_lexer": "ipython3",
   "version": "3.13.0"
  }
 },
 "nbformat": 4,
 "nbformat_minor": 5
}
