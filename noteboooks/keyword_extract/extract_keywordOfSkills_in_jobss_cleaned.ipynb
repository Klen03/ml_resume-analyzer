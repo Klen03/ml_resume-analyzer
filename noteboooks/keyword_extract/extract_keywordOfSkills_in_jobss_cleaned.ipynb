{
 "cells": [
  {
   "cell_type": "markdown",
   "id": "67f612aa",
   "metadata": {},
   "source": [
    "written by Zetian"
   ]
  },
  {
   "cell_type": "markdown",
   "id": "bdd13597",
   "metadata": {},
   "source": [
    "extract top key skills in jobss_cleaned.csv"
   ]
  },
  {
   "cell_type": "code",
   "execution_count": 4,
   "id": "91573053",
   "metadata": {},
   "outputs": [],
   "source": [
    "# Written by Zetian\n",
    "import re\n",
    "from collections import Counter\n",
    "import pandas as pd\n",
    "import numpy as np\n",
    "\n",
    "input_path = \"/Users/sky/Library/CloudStorage/GoogleDrive-skyjin0127@gmail.com/其他计算机/我的笔记本电脑/jzt/BU课程/Spring_2025/CS506/project/cs506-project/datasets/processed_data/jobss_cleaned.csv\"             \n",
    "output_path = \"industry_top_skill_keywords.csv\"   \n",
    "top_n = 50                                       \n",
    "\n",
    "df = pd.read_csv(input_path)\n",
    "df.dropna(subset=[\"Industry\", \"Key Skills\"], inplace=True)\n",
    "\n",
    "# ———— 2. 按 Industry（Category） 聚合并统计技能频次 ————\n",
    "industry_skill_counts = {}\n",
    "\n",
    "for industry, group in df.groupby(\"Industry\"):\n",
    "    counter = Counter()\n",
    "    for skills in group[\"Key Skills\"]:\n",
    "        # 用正则按 “|” 分割，并去掉多余空白\n",
    "        tokens = re.split(r\"\\s*\\|\\s*\", skills)\n",
    "        for token in tokens:\n",
    "            token = token.strip()\n",
    "            if token:\n",
    "                counter[token] += 1\n",
    "    # 将频次转换为 numpy int，并取出现频次最高的 top_n 个 (keyword, np.int) 对\n",
    "    top_list = [(skill, np.int64(freq)) for skill, freq in counter.most_common(top_n)]\n",
    "    industry_skill_counts[industry] = top_list\n",
    "\n",
    "# ———— 3. 构建结果 DataFrame ————\n",
    "result_rows = []\n",
    "for industry, top_list in industry_skill_counts.items():\n",
    "    result_rows.append({\n",
    "        \"Category\": industry,\n",
    "        \"top_keywords\": top_list  # 列表中的元素形如 (keyword, np.int64)\n",
    "    })\n",
    "\n",
    "result_df = pd.DataFrame(result_rows)\n",
    "\n",
    "# ———— 4. 保存到 CSV ————\n",
    "# 注意：带列表/元组的列会以字符串形式写入 CSV，如需复原可用 ast.literal_eval\n",
    "result_df.to_csv(output_path, index=False)"
   ]
  }
 ],
 "metadata": {
  "kernelspec": {
   "display_name": "Python 3",
   "language": "python",
   "name": "python3"
  },
  "language_info": {
   "codemirror_mode": {
    "name": "ipython",
    "version": 3
   },
   "file_extension": ".py",
   "mimetype": "text/x-python",
   "name": "python",
   "nbconvert_exporter": "python",
   "pygments_lexer": "ipython3",
   "version": "3.13.0"
  }
 },
 "nbformat": 4,
 "nbformat_minor": 5
}
