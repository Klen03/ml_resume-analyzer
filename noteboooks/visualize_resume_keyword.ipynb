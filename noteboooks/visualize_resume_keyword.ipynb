{
 "cells": [
  {
   "cell_type": "code",
   "execution_count": 1,
   "metadata": {},
   "outputs": [],
   "source": [
    "import pandas as pd\n",
    "import ast\n",
    "import re\n",
    "from wordcloud import WordCloud\n",
    "import matplotlib.pyplot as plt\n",
    "\n",
    "# 读取 CSV 文件\n",
    "df = pd.read_csv(\"/Users/sky/Library/CloudStorage/GoogleDrive-skyjin0127@gmail.com/其他计算机/我的笔记本电脑/jzt/BU课程/Spring_2025/CS506/project/cs506-project/noteboooks/plain_resume_keyword_freq.csv\")\n",
    "\n",
    "# 遍历每个类别，将字符串转换为实际的列表\n",
    "for idx, row in df.iterrows():\n",
    "    category = row[\"Category\"]\n",
    "    top_keywords_str = row[\"top_keywords\"]\n",
    "    \n",
    "    # 预处理：使用正则表达式将 np.int64(数字) 替换成数字字符串\n",
    "    if isinstance(top_keywords_str, str):\n",
    "        top_keywords_str = re.sub(r'np\\.int64\\((\\d+)\\)', r'\\1', top_keywords_str)\n",
    "    else:\n",
    "        print(f\"非字符串内容：{top_keywords_str}\")\n",
    "        continue\n",
    "    \n",
    "    try:\n",
    "        keywords_list = ast.literal_eval(top_keywords_str)\n",
    "    except Exception as e:\n",
    "        print(f\"转换错误：{e}\")\n",
    "        continue\n",
    "\n",
    "    # 构造关键词频率字典（确保关键词是字符串）\n",
    "    freq_dict = {kw: score for kw, score in keywords_list if isinstance(kw, str)}\n",
    "    \n",
    "    if not freq_dict:\n",
    "        print(f\"类别 {category} 没有有效关键词\")\n",
    "        continue\n",
    "\n",
    "    # 生成词云，调整了一些参数\n",
    "    wc = WordCloud(\n",
    "        width=800,\n",
    "        height=400,\n",
    "        background_color=\"white\",\n",
    "        colormap=\"viridis\",       # 可尝试不同的颜色映射，如 \"plasma\", \"inferno\", \"magma\", \"cividis\"\n",
    "        max_words=100,            # 最多显示 100 个词\n",
    "        max_font_size=80,         # 最大字体大小\n",
    "        contour_width=2,          # 边框宽度\n",
    "        contour_color=\"steelblue\" # 边框颜色\n",
    "    ).generate_from_frequencies(freq_dict)\n",
    "\n",
    "    # 绘制词云图\n",
    "    plt.figure(figsize=(10, 5))\n",
    "    plt.imshow(wc, interpolation=\"bilinear\")\n",
    "    plt.axis(\"off\")\n",
    "    plt.title(f\"Category: {category}\")\n",
    "    \n",
    "    safe_category = re.sub(r'\\W+', '_', category)\n",
    "    filename = f\"wordcloud_{safe_category}.png\"\n",
    "    plt.savefig(filename, bbox_inches=\"tight\")\n",
    "    plt.close()"
   ]
  }
 ],
 "metadata": {
  "kernelspec": {
   "display_name": "Python 3",
   "language": "python",
   "name": "python3"
  },
  "language_info": {
   "codemirror_mode": {
    "name": "ipython",
    "version": 3
   },
   "file_extension": ".py",
   "mimetype": "text/x-python",
   "name": "python",
   "nbconvert_exporter": "python",
   "pygments_lexer": "ipython3",
   "version": "3.13.0"
  }
 },
 "nbformat": 4,
 "nbformat_minor": 2
}
